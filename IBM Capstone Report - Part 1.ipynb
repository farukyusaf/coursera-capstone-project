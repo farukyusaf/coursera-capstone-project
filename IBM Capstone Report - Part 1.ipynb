{
  "nbformat": 4,
  "nbformat_minor": 0,
  "metadata": {
    "colab": {
      "name": "Untitled27.ipynb",
      "provenance": [],
      "authorship_tag": "ABX9TyO5wPm8i78kMUrqfN2tvGD0"
    },
    "kernelspec": {
      "name": "python3",
      "display_name": "Python 3"
    }
  },
  "cells": [
    {
      "cell_type": "markdown",
      "metadata": {
        "id": "KTzo0fXuoMae",
        "colab_type": "text"
      },
      "source": [
        "**IBM Data Science – Capstone Part 1**\n",
        "\n",
        "\n",
        "**Choosing the Best Cities for Middle Eastern Eateries in Australia**\n",
        "An exploratory analysis of Sydney, Melbourne, Canberra, Brisbane and Perth\n",
        "\n",
        "Farooq Yousaf\n"
      ]
    },
    {
      "cell_type": "markdown",
      "metadata": {
        "id": "w-CMReBjoWoV",
        "colab_type": "text"
      },
      "source": [
        "**Introduction and problem Description**\n",
        "\n",
        "In this capstone project, I will use my overall learning from IBM’s Professional Data Science Certificate to solve a problem that I often encounter while living in Australia. Moreover, it is also a common issue faced by many local and foreign tourists who to major metropolitans in Australia, however, they are overwhelmed by food choices. Hence, I will use this project to “explore” which major metropolitans in Australia are the best options for visiting restaurants and eateries offering “Middle Eastern” cuisine. The cities that I will analyze include; Sydney, Melbourne, Canberra, Perth and Brisbane. I will also use my previous background and experience in academia to consult literature resources while forming my arguments. \n",
        "# **Data Description**\n",
        "\n",
        "**Requirements**\n",
        "\n",
        "The data required for this project is mainly restaurants based in the major cities of Australia. For that purpose, I will use the Foursquare API to extract data of Middle Eastern restaurants in the cities under discussion. The major values from that data that are required for this project are the address, latitude and longitude. Moreover, for analysis purposes, Wikipedia and Australian Bureau of Statistics (ABS) will also be used to expand our analysis. In order to analyse our data and create dataframes, we will use pandas, numpy and folium (for maps) libraries. \n",
        "\n",
        "**Source**\n",
        "\n",
        "The data for this project will be collected using Foursquare API using the following link: https://foursquare.com/developers. In order to extract our data, we will use our Client ID and Client Secret to create our query in Python. \n",
        "\n",
        "On the other hand, the secondary data for Australia will be collected from the following sources:\n",
        "\n",
        "Wikipedia: https://en.wikipedia.org/wiki/List_of_cities_in_Australia_by_population \n",
        "\n",
        "ABS: https://www.abs.gov.au/\n",
        "\n",
        "**Audience**\n",
        "\n",
        "The audience for this report is local and overseas travelers who would like to try Middle Eastern restaurants in Australia. Moreover, this project will help me personally, as it enables me to select and analyse various food districts in Australia, which will further help me in my travelling.\n"
      ]
    },
    {
      "cell_type": "code",
      "metadata": {
        "id": "sDZWFQZSoJHD",
        "colab_type": "code",
        "colab": {}
      },
      "source": [
        ""
      ],
      "execution_count": 0,
      "outputs": []
    }
  ]
}