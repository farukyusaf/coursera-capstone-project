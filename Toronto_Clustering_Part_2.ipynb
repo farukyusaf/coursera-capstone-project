{
  "nbformat": 4,
  "nbformat_minor": 0,
  "metadata": {
    "colab": {
      "name": "Copy of Toronto Clustering - Part 1.ipynb",
      "provenance": [],
      "collapsed_sections": [],
      "authorship_tag": "ABX9TyNhIOCjH2tNZcj/ozFiIsQk"
    },
    "kernelspec": {
      "name": "python3",
      "display_name": "Python 3"
    }
  },
  "cells": [
    {
      "cell_type": "markdown",
      "metadata": {
        "id": "O-RXaeS45mJi",
        "colab_type": "text"
      },
      "source": [
        "**For this assignment, you will be required to explore and cluster the neighborhoods in Toronto.**\n",
        "\n",
        "1. Start by creating a new Notebook for this assignment.\n",
        "\n",
        "2. Use the Notebook to build the code to scrape the following Wikipedia page, https://en.wikipedia.org/wiki/List_of_postal_codes_of_Canada:_M, in order to obtain the data that is in the table of postal codes and to transform the data into a pandas dataframe like the one shown below:\n",
        "\n",
        "\n",
        "3. To create the above dataframe:\n",
        "\n",
        "- The dataframe will consist of three columns: PostalCode, Borough, and Neighborhood\n",
        "\n",
        "- Only process the cells that have an assigned borough. Ignore cells with a borough that is Not assigned.\n",
        "\n",
        "- More than one neighborhood can exist in one postal code area. For example, in the table on the Wikipedia page, you will notice that M5A is listed twice and has two neighborhoods: Harbourfront and Regent Park. These two rows will be combined into one row with the neighborhoods separated with a comma as shown in row 11 in the above table.\n",
        "\n",
        "- If a cell has a borough but a Not assigned neighborhood, then the neighborhood will be the same as the borough.\n",
        "\n",
        "- Clean your Notebook and add Markdown cells to explain your work and any assumptions you are making.\n",
        "\n",
        "- In the last cell of your notebook, use the .shape method to print the number of rows of your dataframe.\n",
        "\n",
        "4. Submit a link to your Notebook on your Github repository. (10 marks)"
      ]
    },
    {
      "cell_type": "markdown",
      "metadata": {
        "id": "6OExawNCSGwn",
        "colab_type": "text"
      },
      "source": [
        "# **Part 1**"
      ]
    },
    {
      "cell_type": "markdown",
      "metadata": {
        "id": "kBJfn_fAFIyb",
        "colab_type": "text"
      },
      "source": [
        "**Tried multiple times with multiple scraping methods, however, finally had to use an older version of Wiki page to get the right Table**"
      ]
    },
    {
      "cell_type": "code",
      "metadata": {
        "id": "KJkfs-i9AAeC",
        "colab_type": "code",
        "colab": {}
      },
      "source": [
        "#latest versions were giving a lot of errors, so I used an older version of the Wiki page\n",
        "\n",
        "url = \"https://en.wikipedia.org/w/index.php?title=List_of_postal_codes_of_Canada:_M&oldid=942655364\"\n",
        "res = requests.get(url)\n",
        "soup = bs.BeautifulSoup(res.content,'lxml')\n",
        "table = soup.find_all('table')[0]\n",
        "df = pd.read_html(str(table))\n",
        "data = pd.read_json(df[0].to_json(orient='records'))"
      ],
      "execution_count": 0,
      "outputs": []
    },
    {
      "cell_type": "markdown",
      "metadata": {
        "id": "4qh0-iTsFqVx",
        "colab_type": "text"
      },
      "source": [
        "**Q - The dataframe will consist of three columns: PostalCode, Borough, and Neighborhood**"
      ]
    },
    {
      "cell_type": "markdown",
      "metadata": {
        "id": "8UUKB51mGSaY",
        "colab_type": "text"
      },
      "source": [
        "**Observation - The table that I got has POSTCODE instead of PostalCode due to the older version.**"
      ]
    },
    {
      "cell_type": "code",
      "metadata": {
        "id": "ppwCn_GWAAgt",
        "colab_type": "code",
        "outputId": "81a6a5a9-c34a-48c1-cbfc-79575e2721bd",
        "colab": {
          "base_uri": "https://localhost:8080/",
          "height": 204
        }
      },
      "source": [
        "data.head()"
      ],
      "execution_count": 8,
      "outputs": [
        {
          "output_type": "execute_result",
          "data": {
            "text/html": [
              "<div>\n",
              "<style scoped>\n",
              "    .dataframe tbody tr th:only-of-type {\n",
              "        vertical-align: middle;\n",
              "    }\n",
              "\n",
              "    .dataframe tbody tr th {\n",
              "        vertical-align: top;\n",
              "    }\n",
              "\n",
              "    .dataframe thead th {\n",
              "        text-align: right;\n",
              "    }\n",
              "</style>\n",
              "<table border=\"1\" class=\"dataframe\">\n",
              "  <thead>\n",
              "    <tr style=\"text-align: right;\">\n",
              "      <th></th>\n",
              "      <th>Postcode</th>\n",
              "      <th>Borough</th>\n",
              "      <th>Neighbourhood</th>\n",
              "    </tr>\n",
              "  </thead>\n",
              "  <tbody>\n",
              "    <tr>\n",
              "      <th>0</th>\n",
              "      <td>M1A</td>\n",
              "      <td>Not assigned</td>\n",
              "      <td>Not assigned</td>\n",
              "    </tr>\n",
              "    <tr>\n",
              "      <th>1</th>\n",
              "      <td>M2A</td>\n",
              "      <td>Not assigned</td>\n",
              "      <td>Not assigned</td>\n",
              "    </tr>\n",
              "    <tr>\n",
              "      <th>2</th>\n",
              "      <td>M3A</td>\n",
              "      <td>North York</td>\n",
              "      <td>Parkwoods</td>\n",
              "    </tr>\n",
              "    <tr>\n",
              "      <th>3</th>\n",
              "      <td>M4A</td>\n",
              "      <td>North York</td>\n",
              "      <td>Victoria Village</td>\n",
              "    </tr>\n",
              "    <tr>\n",
              "      <th>4</th>\n",
              "      <td>M5A</td>\n",
              "      <td>Downtown Toronto</td>\n",
              "      <td>Harbourfront</td>\n",
              "    </tr>\n",
              "  </tbody>\n",
              "</table>\n",
              "</div>"
            ],
            "text/plain": [
              "  Postcode           Borough     Neighbourhood\n",
              "0      M1A      Not assigned      Not assigned\n",
              "1      M2A      Not assigned      Not assigned\n",
              "2      M3A        North York         Parkwoods\n",
              "3      M4A        North York  Victoria Village\n",
              "4      M5A  Downtown Toronto      Harbourfront"
            ]
          },
          "metadata": {
            "tags": []
          },
          "execution_count": 8
        }
      ]
    },
    {
      "cell_type": "code",
      "metadata": {
        "id": "5UZf6keTHeR7",
        "colab_type": "code",
        "outputId": "0c7cee01-912b-4d14-8924-96ffbb795e70",
        "colab": {
          "base_uri": "https://localhost:8080/",
          "height": 419
        }
      },
      "source": [
        "data"
      ],
      "execution_count": 9,
      "outputs": [
        {
          "output_type": "execute_result",
          "data": {
            "text/html": [
              "<div>\n",
              "<style scoped>\n",
              "    .dataframe tbody tr th:only-of-type {\n",
              "        vertical-align: middle;\n",
              "    }\n",
              "\n",
              "    .dataframe tbody tr th {\n",
              "        vertical-align: top;\n",
              "    }\n",
              "\n",
              "    .dataframe thead th {\n",
              "        text-align: right;\n",
              "    }\n",
              "</style>\n",
              "<table border=\"1\" class=\"dataframe\">\n",
              "  <thead>\n",
              "    <tr style=\"text-align: right;\">\n",
              "      <th></th>\n",
              "      <th>Postcode</th>\n",
              "      <th>Borough</th>\n",
              "      <th>Neighbourhood</th>\n",
              "    </tr>\n",
              "  </thead>\n",
              "  <tbody>\n",
              "    <tr>\n",
              "      <th>0</th>\n",
              "      <td>M1A</td>\n",
              "      <td>Not assigned</td>\n",
              "      <td>Not assigned</td>\n",
              "    </tr>\n",
              "    <tr>\n",
              "      <th>1</th>\n",
              "      <td>M2A</td>\n",
              "      <td>Not assigned</td>\n",
              "      <td>Not assigned</td>\n",
              "    </tr>\n",
              "    <tr>\n",
              "      <th>2</th>\n",
              "      <td>M3A</td>\n",
              "      <td>North York</td>\n",
              "      <td>Parkwoods</td>\n",
              "    </tr>\n",
              "    <tr>\n",
              "      <th>3</th>\n",
              "      <td>M4A</td>\n",
              "      <td>North York</td>\n",
              "      <td>Victoria Village</td>\n",
              "    </tr>\n",
              "    <tr>\n",
              "      <th>4</th>\n",
              "      <td>M5A</td>\n",
              "      <td>Downtown Toronto</td>\n",
              "      <td>Harbourfront</td>\n",
              "    </tr>\n",
              "    <tr>\n",
              "      <th>...</th>\n",
              "      <td>...</td>\n",
              "      <td>...</td>\n",
              "      <td>...</td>\n",
              "    </tr>\n",
              "    <tr>\n",
              "      <th>282</th>\n",
              "      <td>M8Z</td>\n",
              "      <td>Etobicoke</td>\n",
              "      <td>Mimico NW</td>\n",
              "    </tr>\n",
              "    <tr>\n",
              "      <th>283</th>\n",
              "      <td>M8Z</td>\n",
              "      <td>Etobicoke</td>\n",
              "      <td>The Queensway West</td>\n",
              "    </tr>\n",
              "    <tr>\n",
              "      <th>284</th>\n",
              "      <td>M8Z</td>\n",
              "      <td>Etobicoke</td>\n",
              "      <td>Royal York South West</td>\n",
              "    </tr>\n",
              "    <tr>\n",
              "      <th>285</th>\n",
              "      <td>M8Z</td>\n",
              "      <td>Etobicoke</td>\n",
              "      <td>South of Bloor</td>\n",
              "    </tr>\n",
              "    <tr>\n",
              "      <th>286</th>\n",
              "      <td>M9Z</td>\n",
              "      <td>Not assigned</td>\n",
              "      <td>Not assigned</td>\n",
              "    </tr>\n",
              "  </tbody>\n",
              "</table>\n",
              "<p>287 rows × 3 columns</p>\n",
              "</div>"
            ],
            "text/plain": [
              "    Postcode           Borough          Neighbourhood\n",
              "0        M1A      Not assigned           Not assigned\n",
              "1        M2A      Not assigned           Not assigned\n",
              "2        M3A        North York              Parkwoods\n",
              "3        M4A        North York       Victoria Village\n",
              "4        M5A  Downtown Toronto           Harbourfront\n",
              "..       ...               ...                    ...\n",
              "282      M8Z         Etobicoke              Mimico NW\n",
              "283      M8Z         Etobicoke     The Queensway West\n",
              "284      M8Z         Etobicoke  Royal York South West\n",
              "285      M8Z         Etobicoke         South of Bloor\n",
              "286      M9Z      Not assigned           Not assigned\n",
              "\n",
              "[287 rows x 3 columns]"
            ]
          },
          "metadata": {
            "tags": []
          },
          "execution_count": 9
        }
      ]
    },
    {
      "cell_type": "markdown",
      "metadata": {
        "id": "5FCA99WGFYQY",
        "colab_type": "text"
      },
      "source": [
        "**If a cell has a borough but a Not assigned neighborhood, then the neighborhood will be the same as the borough.**"
      ]
    },
    {
      "cell_type": "code",
      "metadata": {
        "id": "BPos_9PXDnXS",
        "colab_type": "code",
        "colab": {}
      },
      "source": [
        "#reordering and grouping data\n",
        "\n",
        "data_bor = data[data['Borough'] != 'Not assigned']\n",
        "data_bor = data_bor.groupby(['Borough', 'Postcode'], as_index=False).agg(','.join)"
      ],
      "execution_count": 0,
      "outputs": []
    },
    {
      "cell_type": "code",
      "metadata": {
        "id": "MexvzDagEMcm",
        "colab_type": "code",
        "colab": {}
      },
      "source": [
        "#replacing values with Non Assigned Neigbourhoods\n",
        "data_bor['Neighbourhood'] = np.where(data_bor['Neighbourhood'] == 'Not assigned', data_bor['Borough'], data_bor['Neighbourhood'])"
      ],
      "execution_count": 0,
      "outputs": []
    },
    {
      "cell_type": "code",
      "metadata": {
        "id": "ul0HC7IyGyLy",
        "colab_type": "code",
        "outputId": "69f155d3-8cc9-48dd-92e2-cdef0914fffe",
        "colab": {
          "base_uri": "https://localhost:8080/",
          "height": 419
        }
      },
      "source": [
        "data_bor"
      ],
      "execution_count": 12,
      "outputs": [
        {
          "output_type": "execute_result",
          "data": {
            "text/html": [
              "<div>\n",
              "<style scoped>\n",
              "    .dataframe tbody tr th:only-of-type {\n",
              "        vertical-align: middle;\n",
              "    }\n",
              "\n",
              "    .dataframe tbody tr th {\n",
              "        vertical-align: top;\n",
              "    }\n",
              "\n",
              "    .dataframe thead th {\n",
              "        text-align: right;\n",
              "    }\n",
              "</style>\n",
              "<table border=\"1\" class=\"dataframe\">\n",
              "  <thead>\n",
              "    <tr style=\"text-align: right;\">\n",
              "      <th></th>\n",
              "      <th>Borough</th>\n",
              "      <th>Postcode</th>\n",
              "      <th>Neighbourhood</th>\n",
              "    </tr>\n",
              "  </thead>\n",
              "  <tbody>\n",
              "    <tr>\n",
              "      <th>0</th>\n",
              "      <td>Central Toronto</td>\n",
              "      <td>M4N</td>\n",
              "      <td>Lawrence Park</td>\n",
              "    </tr>\n",
              "    <tr>\n",
              "      <th>1</th>\n",
              "      <td>Central Toronto</td>\n",
              "      <td>M4P</td>\n",
              "      <td>Davisville North</td>\n",
              "    </tr>\n",
              "    <tr>\n",
              "      <th>2</th>\n",
              "      <td>Central Toronto</td>\n",
              "      <td>M4R</td>\n",
              "      <td>North Toronto West</td>\n",
              "    </tr>\n",
              "    <tr>\n",
              "      <th>3</th>\n",
              "      <td>Central Toronto</td>\n",
              "      <td>M4S</td>\n",
              "      <td>Davisville</td>\n",
              "    </tr>\n",
              "    <tr>\n",
              "      <th>4</th>\n",
              "      <td>Central Toronto</td>\n",
              "      <td>M4T</td>\n",
              "      <td>Moore Park,Summerhill East</td>\n",
              "    </tr>\n",
              "    <tr>\n",
              "      <th>...</th>\n",
              "      <td>...</td>\n",
              "      <td>...</td>\n",
              "      <td>...</td>\n",
              "    </tr>\n",
              "    <tr>\n",
              "      <th>98</th>\n",
              "      <td>York</td>\n",
              "      <td>M6C</td>\n",
              "      <td>Humewood-Cedarvale</td>\n",
              "    </tr>\n",
              "    <tr>\n",
              "      <th>99</th>\n",
              "      <td>York</td>\n",
              "      <td>M6E</td>\n",
              "      <td>Caledonia-Fairbanks</td>\n",
              "    </tr>\n",
              "    <tr>\n",
              "      <th>100</th>\n",
              "      <td>York</td>\n",
              "      <td>M6M</td>\n",
              "      <td>Del Ray,Keelesdale,Mount Dennis,Silverthorn</td>\n",
              "    </tr>\n",
              "    <tr>\n",
              "      <th>101</th>\n",
              "      <td>York</td>\n",
              "      <td>M6N</td>\n",
              "      <td>The Junction North,Runnymede</td>\n",
              "    </tr>\n",
              "    <tr>\n",
              "      <th>102</th>\n",
              "      <td>York</td>\n",
              "      <td>M9N</td>\n",
              "      <td>Weston</td>\n",
              "    </tr>\n",
              "  </tbody>\n",
              "</table>\n",
              "<p>103 rows × 3 columns</p>\n",
              "</div>"
            ],
            "text/plain": [
              "             Borough Postcode                                Neighbourhood\n",
              "0    Central Toronto      M4N                                Lawrence Park\n",
              "1    Central Toronto      M4P                             Davisville North\n",
              "2    Central Toronto      M4R                           North Toronto West\n",
              "3    Central Toronto      M4S                                   Davisville\n",
              "4    Central Toronto      M4T                   Moore Park,Summerhill East\n",
              "..               ...      ...                                          ...\n",
              "98              York      M6C                           Humewood-Cedarvale\n",
              "99              York      M6E                          Caledonia-Fairbanks\n",
              "100             York      M6M  Del Ray,Keelesdale,Mount Dennis,Silverthorn\n",
              "101             York      M6N                 The Junction North,Runnymede\n",
              "102             York      M9N                                       Weston\n",
              "\n",
              "[103 rows x 3 columns]"
            ]
          },
          "metadata": {
            "tags": []
          },
          "execution_count": 12
        }
      ]
    },
    {
      "cell_type": "code",
      "metadata": {
        "id": "zS9hc1gnG-Sp",
        "colab_type": "code",
        "outputId": "f3e46e90-ea12-4cb2-c4a4-6a97205fdc36",
        "colab": {
          "base_uri": "https://localhost:8080/",
          "height": 34
        }
      },
      "source": [
        "data_bor.shape"
      ],
      "execution_count": 13,
      "outputs": [
        {
          "output_type": "execute_result",
          "data": {
            "text/plain": [
              "(103, 3)"
            ]
          },
          "metadata": {
            "tags": []
          },
          "execution_count": 13
        }
      ]
    },
    {
      "cell_type": "markdown",
      "metadata": {
        "id": "9ZS45Td3HHBS",
        "colab_type": "text"
      },
      "source": [
        "**Our Data contains 103 Rows and 3 Columns**\n",
        "End of Part 1\n",
        "---\n",
        "\n"
      ]
    },
    {
      "cell_type": "markdown",
      "metadata": {
        "id": "xnzgkfVhMMyz",
        "colab_type": "text"
      },
      "source": [
        "# **Part 2**"
      ]
    },
    {
      "cell_type": "markdown",
      "metadata": {
        "id": "Cut3yvkQM56N",
        "colab_type": "text"
      },
      "source": [
        "Importing all Necessary libraries"
      ]
    },
    {
      "cell_type": "code",
      "metadata": {
        "id": "U5ebgDEhHEea",
        "colab_type": "code",
        "colab": {}
      },
      "source": [
        "import requests\n",
        "import lxml.html as lh\n",
        "import bs4 as bs\n",
        "import urllib.request\n",
        "import numpy as np \n",
        "import pandas as pd"
      ],
      "execution_count": 0,
      "outputs": []
    },
    {
      "cell_type": "markdown",
      "metadata": {
        "id": "N38By31LNEOF",
        "colab_type": "text"
      },
      "source": [
        "**I uploaded the geospatial coordinates file first in my virtual colab drive and then used its location below.**"
      ]
    },
    {
      "cell_type": "code",
      "metadata": {
        "id": "Z5TrPGe8MQtb",
        "colab_type": "code",
        "colab": {
          "base_uri": "https://localhost:8080/",
          "height": 204
        },
        "outputId": "a0393875-6a4c-4beb-8748-ad3e08c755aa"
      },
      "source": [
        "geo_data = \"/content/Geospatial_Coordinates.csv\"\n",
        "geospatial_data = pd.read_csv(geo_data)\n",
        "geospatial_data.head()"
      ],
      "execution_count": 2,
      "outputs": [
        {
          "output_type": "execute_result",
          "data": {
            "text/html": [
              "<div>\n",
              "<style scoped>\n",
              "    .dataframe tbody tr th:only-of-type {\n",
              "        vertical-align: middle;\n",
              "    }\n",
              "\n",
              "    .dataframe tbody tr th {\n",
              "        vertical-align: top;\n",
              "    }\n",
              "\n",
              "    .dataframe thead th {\n",
              "        text-align: right;\n",
              "    }\n",
              "</style>\n",
              "<table border=\"1\" class=\"dataframe\">\n",
              "  <thead>\n",
              "    <tr style=\"text-align: right;\">\n",
              "      <th></th>\n",
              "      <th>Postal Code</th>\n",
              "      <th>Latitude</th>\n",
              "      <th>Longitude</th>\n",
              "    </tr>\n",
              "  </thead>\n",
              "  <tbody>\n",
              "    <tr>\n",
              "      <th>0</th>\n",
              "      <td>M1B</td>\n",
              "      <td>43.806686</td>\n",
              "      <td>-79.194353</td>\n",
              "    </tr>\n",
              "    <tr>\n",
              "      <th>1</th>\n",
              "      <td>M1C</td>\n",
              "      <td>43.784535</td>\n",
              "      <td>-79.160497</td>\n",
              "    </tr>\n",
              "    <tr>\n",
              "      <th>2</th>\n",
              "      <td>M1E</td>\n",
              "      <td>43.763573</td>\n",
              "      <td>-79.188711</td>\n",
              "    </tr>\n",
              "    <tr>\n",
              "      <th>3</th>\n",
              "      <td>M1G</td>\n",
              "      <td>43.770992</td>\n",
              "      <td>-79.216917</td>\n",
              "    </tr>\n",
              "    <tr>\n",
              "      <th>4</th>\n",
              "      <td>M1H</td>\n",
              "      <td>43.773136</td>\n",
              "      <td>-79.239476</td>\n",
              "    </tr>\n",
              "  </tbody>\n",
              "</table>\n",
              "</div>"
            ],
            "text/plain": [
              "  Postal Code   Latitude  Longitude\n",
              "0         M1B  43.806686 -79.194353\n",
              "1         M1C  43.784535 -79.160497\n",
              "2         M1E  43.763573 -79.188711\n",
              "3         M1G  43.770992 -79.216917\n",
              "4         M1H  43.773136 -79.239476"
            ]
          },
          "metadata": {
            "tags": []
          },
          "execution_count": 2
        }
      ]
    },
    {
      "cell_type": "markdown",
      "metadata": {
        "id": "jwGswEbBNNDz",
        "colab_type": "text"
      },
      "source": [
        "**As Postal Code was renamed as Postcode, we will change it here as well**"
      ]
    },
    {
      "cell_type": "code",
      "metadata": {
        "id": "P68SnpqyMZAZ",
        "colab_type": "code",
        "colab": {
          "base_uri": "https://localhost:8080/",
          "height": 34
        },
        "outputId": "813ce620-b428-4055-cbec-35e581966718"
      },
      "source": [
        "\n",
        "geospatial_data.columns = ['Postcode', 'Latitude', 'Longitude']\n",
        "geospatial_data.columns"
      ],
      "execution_count": 28,
      "outputs": [
        {
          "output_type": "execute_result",
          "data": {
            "text/plain": [
              "Index(['Postcode', 'Latitude', 'Longitude'], dtype='object')"
            ]
          },
          "metadata": {
            "tags": []
          },
          "execution_count": 28
        }
      ]
    },
    {
      "cell_type": "code",
      "metadata": {
        "id": "CGbSAgD1PM9c",
        "colab_type": "code",
        "colab": {
          "base_uri": "https://localhost:8080/",
          "height": 204
        },
        "outputId": "68c3b86a-c7f0-4db6-ac67-e9cba9d1d01b"
      },
      "source": [
        "geo_tbl = data_bor.merge(geospatial_data, left_on=\"Postcode\", right_on=\"Postcode\")\n",
        "geo_tbl.head()"
      ],
      "execution_count": 34,
      "outputs": [
        {
          "output_type": "execute_result",
          "data": {
            "text/html": [
              "<div>\n",
              "<style scoped>\n",
              "    .dataframe tbody tr th:only-of-type {\n",
              "        vertical-align: middle;\n",
              "    }\n",
              "\n",
              "    .dataframe tbody tr th {\n",
              "        vertical-align: top;\n",
              "    }\n",
              "\n",
              "    .dataframe thead th {\n",
              "        text-align: right;\n",
              "    }\n",
              "</style>\n",
              "<table border=\"1\" class=\"dataframe\">\n",
              "  <thead>\n",
              "    <tr style=\"text-align: right;\">\n",
              "      <th></th>\n",
              "      <th>Borough</th>\n",
              "      <th>Postcode</th>\n",
              "      <th>Neighbourhood</th>\n",
              "      <th>Latitude</th>\n",
              "      <th>Longitude</th>\n",
              "    </tr>\n",
              "  </thead>\n",
              "  <tbody>\n",
              "    <tr>\n",
              "      <th>0</th>\n",
              "      <td>Central Toronto</td>\n",
              "      <td>M4N</td>\n",
              "      <td>Lawrence Park</td>\n",
              "      <td>43.728020</td>\n",
              "      <td>-79.388790</td>\n",
              "    </tr>\n",
              "    <tr>\n",
              "      <th>1</th>\n",
              "      <td>Central Toronto</td>\n",
              "      <td>M4P</td>\n",
              "      <td>Davisville North</td>\n",
              "      <td>43.712751</td>\n",
              "      <td>-79.390197</td>\n",
              "    </tr>\n",
              "    <tr>\n",
              "      <th>2</th>\n",
              "      <td>Central Toronto</td>\n",
              "      <td>M4R</td>\n",
              "      <td>North Toronto West</td>\n",
              "      <td>43.715383</td>\n",
              "      <td>-79.405678</td>\n",
              "    </tr>\n",
              "    <tr>\n",
              "      <th>3</th>\n",
              "      <td>Central Toronto</td>\n",
              "      <td>M4S</td>\n",
              "      <td>Davisville</td>\n",
              "      <td>43.704324</td>\n",
              "      <td>-79.388790</td>\n",
              "    </tr>\n",
              "    <tr>\n",
              "      <th>4</th>\n",
              "      <td>Central Toronto</td>\n",
              "      <td>M4T</td>\n",
              "      <td>Moore Park,Summerhill East</td>\n",
              "      <td>43.689574</td>\n",
              "      <td>-79.383160</td>\n",
              "    </tr>\n",
              "  </tbody>\n",
              "</table>\n",
              "</div>"
            ],
            "text/plain": [
              "           Borough Postcode               Neighbourhood   Latitude  Longitude\n",
              "0  Central Toronto      M4N               Lawrence Park  43.728020 -79.388790\n",
              "1  Central Toronto      M4P            Davisville North  43.712751 -79.390197\n",
              "2  Central Toronto      M4R          North Toronto West  43.715383 -79.405678\n",
              "3  Central Toronto      M4S                  Davisville  43.704324 -79.388790\n",
              "4  Central Toronto      M4T  Moore Park,Summerhill East  43.689574 -79.383160"
            ]
          },
          "metadata": {
            "tags": []
          },
          "execution_count": 34
        }
      ]
    },
    {
      "cell_type": "markdown",
      "metadata": {
        "id": "HWp6CCcgRukj",
        "colab_type": "text"
      },
      "source": [
        "**Now I will reorder to Columns using Pandas simple code to reorder the columns as per requirement**"
      ]
    },
    {
      "cell_type": "code",
      "metadata": {
        "id": "LGcmq2b_MbCq",
        "colab_type": "code",
        "colab": {
          "base_uri": "https://localhost:8080/",
          "height": 419
        },
        "outputId": "6580a2c4-6cbe-424b-fca8-61a06199bd67"
      },
      "source": [
        "geo_tbl = geo_tbl[['Postcode','Borough','Neighbourhood','Latitude','Longitude']]\n",
        "geo_tbl"
      ],
      "execution_count": 36,
      "outputs": [
        {
          "output_type": "execute_result",
          "data": {
            "text/html": [
              "<div>\n",
              "<style scoped>\n",
              "    .dataframe tbody tr th:only-of-type {\n",
              "        vertical-align: middle;\n",
              "    }\n",
              "\n",
              "    .dataframe tbody tr th {\n",
              "        vertical-align: top;\n",
              "    }\n",
              "\n",
              "    .dataframe thead th {\n",
              "        text-align: right;\n",
              "    }\n",
              "</style>\n",
              "<table border=\"1\" class=\"dataframe\">\n",
              "  <thead>\n",
              "    <tr style=\"text-align: right;\">\n",
              "      <th></th>\n",
              "      <th>Postcode</th>\n",
              "      <th>Borough</th>\n",
              "      <th>Neighbourhood</th>\n",
              "      <th>Latitude</th>\n",
              "      <th>Longitude</th>\n",
              "    </tr>\n",
              "  </thead>\n",
              "  <tbody>\n",
              "    <tr>\n",
              "      <th>0</th>\n",
              "      <td>M4N</td>\n",
              "      <td>Central Toronto</td>\n",
              "      <td>Lawrence Park</td>\n",
              "      <td>43.728020</td>\n",
              "      <td>-79.388790</td>\n",
              "    </tr>\n",
              "    <tr>\n",
              "      <th>1</th>\n",
              "      <td>M4P</td>\n",
              "      <td>Central Toronto</td>\n",
              "      <td>Davisville North</td>\n",
              "      <td>43.712751</td>\n",
              "      <td>-79.390197</td>\n",
              "    </tr>\n",
              "    <tr>\n",
              "      <th>2</th>\n",
              "      <td>M4R</td>\n",
              "      <td>Central Toronto</td>\n",
              "      <td>North Toronto West</td>\n",
              "      <td>43.715383</td>\n",
              "      <td>-79.405678</td>\n",
              "    </tr>\n",
              "    <tr>\n",
              "      <th>3</th>\n",
              "      <td>M4S</td>\n",
              "      <td>Central Toronto</td>\n",
              "      <td>Davisville</td>\n",
              "      <td>43.704324</td>\n",
              "      <td>-79.388790</td>\n",
              "    </tr>\n",
              "    <tr>\n",
              "      <th>4</th>\n",
              "      <td>M4T</td>\n",
              "      <td>Central Toronto</td>\n",
              "      <td>Moore Park,Summerhill East</td>\n",
              "      <td>43.689574</td>\n",
              "      <td>-79.383160</td>\n",
              "    </tr>\n",
              "    <tr>\n",
              "      <th>...</th>\n",
              "      <td>...</td>\n",
              "      <td>...</td>\n",
              "      <td>...</td>\n",
              "      <td>...</td>\n",
              "      <td>...</td>\n",
              "    </tr>\n",
              "    <tr>\n",
              "      <th>98</th>\n",
              "      <td>M6C</td>\n",
              "      <td>York</td>\n",
              "      <td>Humewood-Cedarvale</td>\n",
              "      <td>43.693781</td>\n",
              "      <td>-79.428191</td>\n",
              "    </tr>\n",
              "    <tr>\n",
              "      <th>99</th>\n",
              "      <td>M6E</td>\n",
              "      <td>York</td>\n",
              "      <td>Caledonia-Fairbanks</td>\n",
              "      <td>43.689026</td>\n",
              "      <td>-79.453512</td>\n",
              "    </tr>\n",
              "    <tr>\n",
              "      <th>100</th>\n",
              "      <td>M6M</td>\n",
              "      <td>York</td>\n",
              "      <td>Del Ray,Keelesdale,Mount Dennis,Silverthorn</td>\n",
              "      <td>43.691116</td>\n",
              "      <td>-79.476013</td>\n",
              "    </tr>\n",
              "    <tr>\n",
              "      <th>101</th>\n",
              "      <td>M6N</td>\n",
              "      <td>York</td>\n",
              "      <td>The Junction North,Runnymede</td>\n",
              "      <td>43.673185</td>\n",
              "      <td>-79.487262</td>\n",
              "    </tr>\n",
              "    <tr>\n",
              "      <th>102</th>\n",
              "      <td>M9N</td>\n",
              "      <td>York</td>\n",
              "      <td>Weston</td>\n",
              "      <td>43.706876</td>\n",
              "      <td>-79.518188</td>\n",
              "    </tr>\n",
              "  </tbody>\n",
              "</table>\n",
              "<p>103 rows × 5 columns</p>\n",
              "</div>"
            ],
            "text/plain": [
              "    Postcode          Borough  ...   Latitude  Longitude\n",
              "0        M4N  Central Toronto  ...  43.728020 -79.388790\n",
              "1        M4P  Central Toronto  ...  43.712751 -79.390197\n",
              "2        M4R  Central Toronto  ...  43.715383 -79.405678\n",
              "3        M4S  Central Toronto  ...  43.704324 -79.388790\n",
              "4        M4T  Central Toronto  ...  43.689574 -79.383160\n",
              "..       ...              ...  ...        ...        ...\n",
              "98       M6C             York  ...  43.693781 -79.428191\n",
              "99       M6E             York  ...  43.689026 -79.453512\n",
              "100      M6M             York  ...  43.691116 -79.476013\n",
              "101      M6N             York  ...  43.673185 -79.487262\n",
              "102      M9N             York  ...  43.706876 -79.518188\n",
              "\n",
              "[103 rows x 5 columns]"
            ]
          },
          "metadata": {
            "tags": []
          },
          "execution_count": 36
        }
      ]
    },
    {
      "cell_type": "code",
      "metadata": {
        "id": "ao_Vkp3GMgDK",
        "colab_type": "code",
        "colab": {
          "base_uri": "https://localhost:8080/",
          "height": 419
        },
        "outputId": "27d24214-dba9-4839-d9fa-b579c2808a89"
      },
      "source": [
        "geo_tbl"
      ],
      "execution_count": 37,
      "outputs": [
        {
          "output_type": "execute_result",
          "data": {
            "text/html": [
              "<div>\n",
              "<style scoped>\n",
              "    .dataframe tbody tr th:only-of-type {\n",
              "        vertical-align: middle;\n",
              "    }\n",
              "\n",
              "    .dataframe tbody tr th {\n",
              "        vertical-align: top;\n",
              "    }\n",
              "\n",
              "    .dataframe thead th {\n",
              "        text-align: right;\n",
              "    }\n",
              "</style>\n",
              "<table border=\"1\" class=\"dataframe\">\n",
              "  <thead>\n",
              "    <tr style=\"text-align: right;\">\n",
              "      <th></th>\n",
              "      <th>Postcode</th>\n",
              "      <th>Borough</th>\n",
              "      <th>Neighbourhood</th>\n",
              "      <th>Latitude</th>\n",
              "      <th>Longitude</th>\n",
              "    </tr>\n",
              "  </thead>\n",
              "  <tbody>\n",
              "    <tr>\n",
              "      <th>0</th>\n",
              "      <td>M4N</td>\n",
              "      <td>Central Toronto</td>\n",
              "      <td>Lawrence Park</td>\n",
              "      <td>43.728020</td>\n",
              "      <td>-79.388790</td>\n",
              "    </tr>\n",
              "    <tr>\n",
              "      <th>1</th>\n",
              "      <td>M4P</td>\n",
              "      <td>Central Toronto</td>\n",
              "      <td>Davisville North</td>\n",
              "      <td>43.712751</td>\n",
              "      <td>-79.390197</td>\n",
              "    </tr>\n",
              "    <tr>\n",
              "      <th>2</th>\n",
              "      <td>M4R</td>\n",
              "      <td>Central Toronto</td>\n",
              "      <td>North Toronto West</td>\n",
              "      <td>43.715383</td>\n",
              "      <td>-79.405678</td>\n",
              "    </tr>\n",
              "    <tr>\n",
              "      <th>3</th>\n",
              "      <td>M4S</td>\n",
              "      <td>Central Toronto</td>\n",
              "      <td>Davisville</td>\n",
              "      <td>43.704324</td>\n",
              "      <td>-79.388790</td>\n",
              "    </tr>\n",
              "    <tr>\n",
              "      <th>4</th>\n",
              "      <td>M4T</td>\n",
              "      <td>Central Toronto</td>\n",
              "      <td>Moore Park,Summerhill East</td>\n",
              "      <td>43.689574</td>\n",
              "      <td>-79.383160</td>\n",
              "    </tr>\n",
              "    <tr>\n",
              "      <th>...</th>\n",
              "      <td>...</td>\n",
              "      <td>...</td>\n",
              "      <td>...</td>\n",
              "      <td>...</td>\n",
              "      <td>...</td>\n",
              "    </tr>\n",
              "    <tr>\n",
              "      <th>98</th>\n",
              "      <td>M6C</td>\n",
              "      <td>York</td>\n",
              "      <td>Humewood-Cedarvale</td>\n",
              "      <td>43.693781</td>\n",
              "      <td>-79.428191</td>\n",
              "    </tr>\n",
              "    <tr>\n",
              "      <th>99</th>\n",
              "      <td>M6E</td>\n",
              "      <td>York</td>\n",
              "      <td>Caledonia-Fairbanks</td>\n",
              "      <td>43.689026</td>\n",
              "      <td>-79.453512</td>\n",
              "    </tr>\n",
              "    <tr>\n",
              "      <th>100</th>\n",
              "      <td>M6M</td>\n",
              "      <td>York</td>\n",
              "      <td>Del Ray,Keelesdale,Mount Dennis,Silverthorn</td>\n",
              "      <td>43.691116</td>\n",
              "      <td>-79.476013</td>\n",
              "    </tr>\n",
              "    <tr>\n",
              "      <th>101</th>\n",
              "      <td>M6N</td>\n",
              "      <td>York</td>\n",
              "      <td>The Junction North,Runnymede</td>\n",
              "      <td>43.673185</td>\n",
              "      <td>-79.487262</td>\n",
              "    </tr>\n",
              "    <tr>\n",
              "      <th>102</th>\n",
              "      <td>M9N</td>\n",
              "      <td>York</td>\n",
              "      <td>Weston</td>\n",
              "      <td>43.706876</td>\n",
              "      <td>-79.518188</td>\n",
              "    </tr>\n",
              "  </tbody>\n",
              "</table>\n",
              "<p>103 rows × 5 columns</p>\n",
              "</div>"
            ],
            "text/plain": [
              "    Postcode          Borough  ...   Latitude  Longitude\n",
              "0        M4N  Central Toronto  ...  43.728020 -79.388790\n",
              "1        M4P  Central Toronto  ...  43.712751 -79.390197\n",
              "2        M4R  Central Toronto  ...  43.715383 -79.405678\n",
              "3        M4S  Central Toronto  ...  43.704324 -79.388790\n",
              "4        M4T  Central Toronto  ...  43.689574 -79.383160\n",
              "..       ...              ...  ...        ...        ...\n",
              "98       M6C             York  ...  43.693781 -79.428191\n",
              "99       M6E             York  ...  43.689026 -79.453512\n",
              "100      M6M             York  ...  43.691116 -79.476013\n",
              "101      M6N             York  ...  43.673185 -79.487262\n",
              "102      M9N             York  ...  43.706876 -79.518188\n",
              "\n",
              "[103 rows x 5 columns]"
            ]
          },
          "metadata": {
            "tags": []
          },
          "execution_count": 37
        }
      ]
    },
    {
      "cell_type": "markdown",
      "metadata": {
        "id": "A1PXyv6tSVpl",
        "colab_type": "text"
      },
      "source": [
        "End of Part 2\n",
        "\n",
        "---\n",
        "\n"
      ]
    },
    {
      "cell_type": "code",
      "metadata": {
        "id": "FhTt3mgaSXiK",
        "colab_type": "code",
        "colab": {}
      },
      "source": [
        ""
      ],
      "execution_count": 0,
      "outputs": []
    }
  ]
}